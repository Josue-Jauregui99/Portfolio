{
 "cells": [
  {
   "cell_type": "markdown",
   "metadata": {},
   "source": [
    "#   Austin City Crime Analysis"
   ]
  },
  {
   "cell_type": "markdown",
   "metadata": {},
   "source": [
    "The city of Austin has beccome the second-fastest-growing major city in Texas since 2010. Compared to other major cities like San Francisco and New York, Austin is one of the most affordable large cities in the U.S. This affordability makes the city an attractive location for tech investors and companies from all over the world, but is this the only factor that's being considered?\n",
    "\n",
    "The purpose of this project is to analyse Austin's crime statistics from the citiy's police department and find answers to the following questions:\n",
    " - What is Austin's overall crime rate per 100,000 people?\n",
    " - Where are the safest zones in Austin?\n",
    " - Where are the least safe places in Austin?\n",
    " - What are the least and most common crimes in Austin?\n",
    " - Safest zipcode per crime category.\n",
    " - Least safe zipcode per crime category."
   ]
  }
 ],
 "metadata": {
  "interpreter": {
   "hash": "198c43cafc0aaaffe42755b2318915bacdf8e9169ec30018c5d90580f362a1a3"
  },
  "kernelspec": {
   "display_name": "Python 3.10.4 64-bit",
   "language": "python",
   "name": "python3"
  },
  "language_info": {
   "codemirror_mode": {
    "name": "ipython",
    "version": 3
   },
   "file_extension": ".py",
   "mimetype": "text/x-python",
   "name": "python",
   "nbconvert_exporter": "python",
   "pygments_lexer": "ipython3",
   "version": "3.10.4"
  },
  "orig_nbformat": 4
 },
 "nbformat": 4,
 "nbformat_minor": 2
}
