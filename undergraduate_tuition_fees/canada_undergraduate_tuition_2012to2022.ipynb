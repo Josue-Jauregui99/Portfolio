{
 "cells": [
  {
   "cell_type": "markdown",
   "metadata": {},
   "source": [
    "# Undergraduate Tuition Fees In Canada (2012-2012)"
   ]
  },
  {
   "cell_type": "markdown",
   "metadata": {},
   "source": [
    "Canada is one of the most  has the [highest percentage of residents ages 25 to 64 who have completed a tertiary education](https://worldpopulationreview.com/country-rankings/most-educated-countries) in the OECD.\n"
   ]
  },
  {
   "cell_type": "code",
   "execution_count": 1,
   "metadata": {
    "vscode": {
     "languageId": "sql"
    }
   },
   "outputs": [
    {
     "name": "stderr",
     "output_type": "stream",
     "text": [
      "UsageError: Cell magic `%%sql` not found.\n"
     ]
    }
   ],
   "source": [
    "%%sql\n",
    "mysql:///postsecondary.sql\n",
    "\n",
    "select *\n",
    "from `postsecondary_tuition_by_province`"
   ]
  }
 ],
 "metadata": {
  "interpreter": {
   "hash": "198c43cafc0aaaffe42755b2318915bacdf8e9169ec30018c5d90580f362a1a3"
  },
  "kernelspec": {
   "display_name": "Python 3.10.4 64-bit",
   "language": "python",
   "name": "python3"
  },
  "language_info": {
   "codemirror_mode": {
    "name": "ipython",
    "version": 3
   },
   "file_extension": ".py",
   "mimetype": "text/x-python",
   "name": "python",
   "nbconvert_exporter": "python",
   "pygments_lexer": "ipython3",
   "version": "3.10.4"
  },
  "orig_nbformat": 4
 },
 "nbformat": 4,
 "nbformat_minor": 2
}
