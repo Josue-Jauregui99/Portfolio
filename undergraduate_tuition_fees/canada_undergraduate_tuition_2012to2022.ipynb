{
 "cells": [
  {
   "cell_type": "markdown",
   "metadata": {},
   "source": [
    "# Undergraduate Tuition Fees In Canada (2012-2012)"
   ]
  },
  {
   "cell_type": "markdown",
   "metadata": {},
   "source": [
    "Canada is one of the most  has the [highest percentage of residents ages 25 to 64 who have completed a tertiary education](https://worldpopulationreview.com/country-rankings/most-educated-countries) in the OECD.\n"
   ]
  },
  {
   "cell_type": "code",
   "execution_count": 9,
   "metadata": {},
   "outputs": [
    {
     "ename": "OperationalError",
     "evalue": "connection to server at \"localhost\" (::1), port 3306 failed: received invalid response to SSL negotiation: J\n",
     "output_type": "error",
     "traceback": [
      "\u001b[1;31m---------------------------------------------------------------------------\u001b[0m",
      "\u001b[1;31mOperationalError\u001b[0m                          Traceback (most recent call last)",
      "\u001b[1;32mc:\\Users\\yizre\\OneDrive\\Documentos\\DataAnalyst\\Portfolio\\undergraduate_tuition_fees\\canada_undergraduate_tuition_2012to2022.ipynb Cell 3'\u001b[0m in \u001b[0;36m<cell line: 12>\u001b[1;34m()\u001b[0m\n\u001b[0;32m      <a href='vscode-notebook-cell:/c%3A/Users/yizre/OneDrive/Documentos/DataAnalyst/Portfolio/undergraduate_tuition_fees/canada_undergraduate_tuition_2012to2022.ipynb#ch0000003?line=7'>8</a>\u001b[0m os\u001b[39m.\u001b[39menviron[\u001b[39m\"\u001b[39m\u001b[39mdb_user\u001b[39m\u001b[39m\"\u001b[39m] \u001b[39m=\u001b[39m \u001b[39m'\u001b[39m\u001b[39mroot\u001b[39m\u001b[39m'\u001b[39m\n\u001b[0;32m      <a href='vscode-notebook-cell:/c%3A/Users/yizre/OneDrive/Documentos/DataAnalyst/Portfolio/undergraduate_tuition_fees/canada_undergraduate_tuition_2012to2022.ipynb#ch0000003?line=8'>9</a>\u001b[0m os\u001b[39m.\u001b[39menviron[\u001b[39m\"\u001b[39m\u001b[39mdb_password\u001b[39m\u001b[39m\"\u001b[39m] \u001b[39m=\u001b[39m \u001b[39m'\u001b[39m\u001b[39mFramework\u001b[39m\u001b[39m'\u001b[39m\n\u001b[1;32m---> <a href='vscode-notebook-cell:/c%3A/Users/yizre/OneDrive/Documentos/DataAnalyst/Portfolio/undergraduate_tuition_fees/canada_undergraduate_tuition_2012to2022.ipynb#ch0000003?line=11'>12</a>\u001b[0m conn \u001b[39m=\u001b[39m ps\u001b[39m.\u001b[39;49mconnect(\n\u001b[0;32m     <a href='vscode-notebook-cell:/c%3A/Users/yizre/OneDrive/Documentos/DataAnalyst/Portfolio/undergraduate_tuition_fees/canada_undergraduate_tuition_2012to2022.ipynb#ch0000003?line=12'>13</a>\u001b[0m     host\u001b[39m=\u001b[39;49mos\u001b[39m.\u001b[39;49menviron[\u001b[39m\"\u001b[39;49m\u001b[39mdb_host\u001b[39;49m\u001b[39m\"\u001b[39;49m],\n\u001b[0;32m     <a href='vscode-notebook-cell:/c%3A/Users/yizre/OneDrive/Documentos/DataAnalyst/Portfolio/undergraduate_tuition_fees/canada_undergraduate_tuition_2012to2022.ipynb#ch0000003?line=13'>14</a>\u001b[0m     port\u001b[39m=\u001b[39;49mos\u001b[39m.\u001b[39;49menviron[\u001b[39m\"\u001b[39;49m\u001b[39mdb_port\u001b[39;49m\u001b[39m\"\u001b[39;49m],\n\u001b[0;32m     <a href='vscode-notebook-cell:/c%3A/Users/yizre/OneDrive/Documentos/DataAnalyst/Portfolio/undergraduate_tuition_fees/canada_undergraduate_tuition_2012to2022.ipynb#ch0000003?line=14'>15</a>\u001b[0m     dbname\u001b[39m=\u001b[39;49mos\u001b[39m.\u001b[39;49menviron[\u001b[39m\"\u001b[39;49m\u001b[39mdb_name\u001b[39;49m\u001b[39m\"\u001b[39;49m],\n\u001b[0;32m     <a href='vscode-notebook-cell:/c%3A/Users/yizre/OneDrive/Documentos/DataAnalyst/Portfolio/undergraduate_tuition_fees/canada_undergraduate_tuition_2012to2022.ipynb#ch0000003?line=15'>16</a>\u001b[0m     user\u001b[39m=\u001b[39;49mos\u001b[39m.\u001b[39;49menviron[\u001b[39m\"\u001b[39;49m\u001b[39mdb_user\u001b[39;49m\u001b[39m\"\u001b[39;49m],\n\u001b[0;32m     <a href='vscode-notebook-cell:/c%3A/Users/yizre/OneDrive/Documentos/DataAnalyst/Portfolio/undergraduate_tuition_fees/canada_undergraduate_tuition_2012to2022.ipynb#ch0000003?line=16'>17</a>\u001b[0m     password\u001b[39m=\u001b[39;49mos\u001b[39m.\u001b[39;49menviron[\u001b[39m\"\u001b[39;49m\u001b[39mdb_password\u001b[39;49m\u001b[39m\"\u001b[39;49m])\n",
      "File \u001b[1;32mc:\\Users\\yizre\\AppData\\Local\\Programs\\Python\\Python310\\lib\\site-packages\\psycopg2\\__init__.py:122\u001b[0m, in \u001b[0;36mconnect\u001b[1;34m(dsn, connection_factory, cursor_factory, **kwargs)\u001b[0m\n\u001b[0;32m    <a href='file:///c%3A/Users/yizre/AppData/Local/Programs/Python/Python310/lib/site-packages/psycopg2/__init__.py?line=118'>119</a>\u001b[0m     kwasync[\u001b[39m'\u001b[39m\u001b[39masync_\u001b[39m\u001b[39m'\u001b[39m] \u001b[39m=\u001b[39m kwargs\u001b[39m.\u001b[39mpop(\u001b[39m'\u001b[39m\u001b[39masync_\u001b[39m\u001b[39m'\u001b[39m)\n\u001b[0;32m    <a href='file:///c%3A/Users/yizre/AppData/Local/Programs/Python/Python310/lib/site-packages/psycopg2/__init__.py?line=120'>121</a>\u001b[0m dsn \u001b[39m=\u001b[39m _ext\u001b[39m.\u001b[39mmake_dsn(dsn, \u001b[39m*\u001b[39m\u001b[39m*\u001b[39mkwargs)\n\u001b[1;32m--> <a href='file:///c%3A/Users/yizre/AppData/Local/Programs/Python/Python310/lib/site-packages/psycopg2/__init__.py?line=121'>122</a>\u001b[0m conn \u001b[39m=\u001b[39m _connect(dsn, connection_factory\u001b[39m=\u001b[39mconnection_factory, \u001b[39m*\u001b[39m\u001b[39m*\u001b[39mkwasync)\n\u001b[0;32m    <a href='file:///c%3A/Users/yizre/AppData/Local/Programs/Python/Python310/lib/site-packages/psycopg2/__init__.py?line=122'>123</a>\u001b[0m \u001b[39mif\u001b[39;00m cursor_factory \u001b[39mis\u001b[39;00m \u001b[39mnot\u001b[39;00m \u001b[39mNone\u001b[39;00m:\n\u001b[0;32m    <a href='file:///c%3A/Users/yizre/AppData/Local/Programs/Python/Python310/lib/site-packages/psycopg2/__init__.py?line=123'>124</a>\u001b[0m     conn\u001b[39m.\u001b[39mcursor_factory \u001b[39m=\u001b[39m cursor_factory\n",
      "\u001b[1;31mOperationalError\u001b[0m: connection to server at \"localhost\" (::1), port 3306 failed: received invalid response to SSL negotiation: J\n"
     ]
    }
   ],
   "source": [
    "import os\n",
    "import psycopg2 as ps\n",
    "import pandas as pd\n",
    "\n",
    "os.environ[\"db_host\"] = 'localhost'\n",
    "os.environ[\"db_port\"] = '3306'\n",
    "os.environ[\"db_name\"] = 'postsecondary'\n",
    "os.environ[\"db_user\"] = 'root'\n",
    "os.environ[\"db_password\"] = 'Framework'\n",
    "\n",
    "\n",
    "conn = ps.connect(\n",
    "    host=os.environ[\"db_host\"],\n",
    "    port=os.environ[\"db_port\"],\n",
    "    dbname=os.environ[\"db_name\"],\n",
    "    user=os.environ[\"db_user\"],\n",
    "    password=os.environ[\"db_password\"])"
   ]
  }
 ],
 "metadata": {
  "interpreter": {
   "hash": "198c43cafc0aaaffe42755b2318915bacdf8e9169ec30018c5d90580f362a1a3"
  },
  "kernelspec": {
   "display_name": "Python 3.10.4 64-bit",
   "language": "python",
   "name": "python3"
  },
  "language_info": {
   "codemirror_mode": {
    "name": "ipython",
    "version": 3
   },
   "file_extension": ".py",
   "mimetype": "text/x-python",
   "name": "python",
   "nbconvert_exporter": "python",
   "pygments_lexer": "ipython3",
   "version": "3.10.4"
  },
  "orig_nbformat": 4
 },
 "nbformat": 4,
 "nbformat_minor": 2
}
