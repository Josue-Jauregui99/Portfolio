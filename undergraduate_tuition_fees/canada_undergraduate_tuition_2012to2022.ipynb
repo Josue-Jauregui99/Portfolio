{
 "cells": [
  {
   "cell_type": "markdown",
   "metadata": {},
   "source": [
    "#Undergraduate Tuition Fees In Canada (2012-2012)\n",
    "\n",
    "Canada has the [highest percentage of residents ages 25 to 64 who have completed a tertiary education](https://worldpopulationreview.com/country-rankings/most-educated-countries)\n"
   ]
  }
 ],
 "metadata": {
  "language_info": {
   "name": "python"
  },
  "orig_nbformat": 4
 },
 "nbformat": 4,
 "nbformat_minor": 2
}
