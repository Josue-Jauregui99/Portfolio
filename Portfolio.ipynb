{
 "cells": [
  {
   "cell_type": "markdown",
   "metadata": {},
   "source": [
    "# Josue Jauregui Rodriguez \n",
    "## Porfolio \n",
    "\n",
    "This Notebook will go into detail about the different projects in my portfolio. Feel free to ask me anytyhing you'd like to know about them!"
   ]
  },
  {
   "cell_type": "markdown",
   "metadata": {},
   "source": [
    "## Table of Contents:\n",
    "* [To-Do list](#To-doList)\n",
    "\n",
    "\n"
   ]
  },
  {
   "cell_type": "markdown",
   "metadata": {},
   "source": [
    "# - To-Do List <a class=\"anchor\" id=\"To-doList\"></a>\n",
    "\n",
    "### Repository\n",
    "https://github.com/Josue-Jauregui99/to-do-list\n",
    "\n",
    "### Hosted at:\n",
    "[www.yzry.ca](https://yzry.ca)\n",
    "\n",
    "### Description\n",
    "This is a simple To-Do list project. It has a component for \n",
    "\n",
    "The purpose of this project was to start learning react for Front End and familiarize myself with frameworks like React.\n",
    "\n",
    "### Technologies Used\n",
    "Build Tool: Vite\\\n",
    "Framework: React\n",
    "\n",
    "### Personal Notes\n",
    "Personally, I really enjoyed this project. It allowed me to better understand CSS and creating React components. Although it was simple, it motivated me to continue learning this Framework. / /"
   ]
  }
 ],
 "metadata": {
  "kernelspec": {
   "display_name": "Python 3",
   "language": "python",
   "name": "python3"
  },
  "language_info": {
   "name": "python",
   "version": "3.11.9"
  }
 },
 "nbformat": 4,
 "nbformat_minor": 2
}
